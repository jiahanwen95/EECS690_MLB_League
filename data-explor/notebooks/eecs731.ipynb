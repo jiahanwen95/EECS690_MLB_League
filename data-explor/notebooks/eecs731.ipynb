{
 "cells": [
  {
   "cell_type": "markdown",
   "metadata": {},
   "source": [
    "#### MLB Leagues Regression model\n",
    "-Loading data and generate heat map\n",
    "\n",
    "-Processing data and generate idea\n",
    "\n",
    "-Training by Regression model"
   ]
  },
  {
   "cell_type": "code",
   "execution_count": 118,
   "metadata": {},
   "outputs": [],
   "source": [
    "import pandas as pd\n",
    "import numpy as np\n",
    "from sklearn import linear_model\n",
    "from sklearn import preprocessing\n",
    "from sklearn.linear_model import LinearRegression\n",
    "from sklearn.model_selection import train_test_split\n",
    "from sklearn.metrics import classification_report\n",
    "from sklearn.metrics import confusion_matrix\n",
    "from sklearn.metrics import accuracy_score\n",
    "from sklearn.multioutput import MultiOutputClassifier\n",
    "from sklearn.ensemble import RandomForestRegressor\n",
    "from sklearn.tree import DecisionTreeRegressor\n",
    "import seaborn as sns\n",
    "import matplotlib.pyplot as plt\n",
    "import warnings\n",
    "warnings.filterwarnings(\"ignore\")"
   ]
  },
  {
   "cell_type": "markdown",
   "metadata": {},
   "source": [
    "## Loading mlb_dataset"
   ]
  },
  {
   "cell_type": "code",
   "execution_count": 92,
   "metadata": {},
   "outputs": [],
   "source": [
    "data_url=\"https://projects.fivethirtyeight.com/mlb-api/mlb_elo.csv\""
   ]
  },
  {
   "cell_type": "code",
   "execution_count": 93,
   "metadata": {},
   "outputs": [],
   "source": [
    "mlb_data = pd.read_csv(data_url)"
   ]
  },
  {
   "cell_type": "markdown",
   "metadata": {},
   "source": [
    "### drop None value"
   ]
  },
  {
   "cell_type": "code",
   "execution_count": 94,
   "metadata": {},
   "outputs": [],
   "source": [
    "mlb_data.dropna(axis=0, how='any', inplace=True)"
   ]
  },
  {
   "cell_type": "code",
   "execution_count": 95,
   "metadata": {},
   "outputs": [
    {
     "data": {
      "text/html": [
       "<div>\n",
       "<style scoped>\n",
       "    .dataframe tbody tr th:only-of-type {\n",
       "        vertical-align: middle;\n",
       "    }\n",
       "\n",
       "    .dataframe tbody tr th {\n",
       "        vertical-align: top;\n",
       "    }\n",
       "\n",
       "    .dataframe thead th {\n",
       "        text-align: right;\n",
       "    }\n",
       "</style>\n",
       "<table border=\"1\" class=\"dataframe\">\n",
       "  <thead>\n",
       "    <tr style=\"text-align: right;\">\n",
       "      <th></th>\n",
       "      <th>date</th>\n",
       "      <th>season</th>\n",
       "      <th>neutral</th>\n",
       "      <th>playoff</th>\n",
       "      <th>team1</th>\n",
       "      <th>team2</th>\n",
       "      <th>elo1_pre</th>\n",
       "      <th>elo2_pre</th>\n",
       "      <th>elo_prob1</th>\n",
       "      <th>elo_prob2</th>\n",
       "      <th>...</th>\n",
       "      <th>pitcher1_rgs</th>\n",
       "      <th>pitcher2_rgs</th>\n",
       "      <th>pitcher1_adj</th>\n",
       "      <th>pitcher2_adj</th>\n",
       "      <th>rating_prob1</th>\n",
       "      <th>rating_prob2</th>\n",
       "      <th>rating1_post</th>\n",
       "      <th>rating2_post</th>\n",
       "      <th>score1</th>\n",
       "      <th>score2</th>\n",
       "    </tr>\n",
       "  </thead>\n",
       "  <tbody>\n",
       "    <tr>\n",
       "      <th>18</th>\n",
       "      <td>2020-10-05</td>\n",
       "      <td>2020</td>\n",
       "      <td>1</td>\n",
       "      <td>d</td>\n",
       "      <td>TBD</td>\n",
       "      <td>NYY</td>\n",
       "      <td>1566.075394</td>\n",
       "      <td>1557.931446</td>\n",
       "      <td>0.515622</td>\n",
       "      <td>0.484378</td>\n",
       "      <td>...</td>\n",
       "      <td>55.816028</td>\n",
       "      <td>64.669941</td>\n",
       "      <td>8.998064</td>\n",
       "      <td>45.532032</td>\n",
       "      <td>0.428900</td>\n",
       "      <td>0.571100</td>\n",
       "      <td>1558.967129</td>\n",
       "      <td>1565.871830</td>\n",
       "      <td>3.0</td>\n",
       "      <td>9.0</td>\n",
       "    </tr>\n",
       "    <tr>\n",
       "      <th>19</th>\n",
       "      <td>2020-10-05</td>\n",
       "      <td>2020</td>\n",
       "      <td>1</td>\n",
       "      <td>d</td>\n",
       "      <td>OAK</td>\n",
       "      <td>HOU</td>\n",
       "      <td>1547.618027</td>\n",
       "      <td>1542.711978</td>\n",
       "      <td>0.509413</td>\n",
       "      <td>0.490587</td>\n",
       "      <td>...</td>\n",
       "      <td>54.772986</td>\n",
       "      <td>53.236862</td>\n",
       "      <td>18.961942</td>\n",
       "      <td>-1.632404</td>\n",
       "      <td>0.501194</td>\n",
       "      <td>0.498806</td>\n",
       "      <td>1529.635953</td>\n",
       "      <td>1556.298933</td>\n",
       "      <td>5.0</td>\n",
       "      <td>10.0</td>\n",
       "    </tr>\n",
       "    <tr>\n",
       "      <th>20</th>\n",
       "      <td>2020-10-02</td>\n",
       "      <td>2020</td>\n",
       "      <td>0</td>\n",
       "      <td>c</td>\n",
       "      <td>SDP</td>\n",
       "      <td>STL</td>\n",
       "      <td>1522.312734</td>\n",
       "      <td>1520.100045</td>\n",
       "      <td>0.550128</td>\n",
       "      <td>0.449872</td>\n",
       "      <td>...</td>\n",
       "      <td>47.400000</td>\n",
       "      <td>57.310588</td>\n",
       "      <td>-17.746023</td>\n",
       "      <td>29.444071</td>\n",
       "      <td>0.461857</td>\n",
       "      <td>0.538143</td>\n",
       "      <td>1534.038131</td>\n",
       "      <td>1509.745224</td>\n",
       "      <td>4.0</td>\n",
       "      <td>0.0</td>\n",
       "    </tr>\n",
       "    <tr>\n",
       "      <th>21</th>\n",
       "      <td>2020-10-02</td>\n",
       "      <td>2020</td>\n",
       "      <td>0</td>\n",
       "      <td>c</td>\n",
       "      <td>CHC</td>\n",
       "      <td>FLA</td>\n",
       "      <td>1517.011886</td>\n",
       "      <td>1478.403936</td>\n",
       "      <td>0.617874</td>\n",
       "      <td>0.382126</td>\n",
       "      <td>...</td>\n",
       "      <td>60.622663</td>\n",
       "      <td>50.317526</td>\n",
       "      <td>40.641459</td>\n",
       "      <td>5.064633</td>\n",
       "      <td>0.673112</td>\n",
       "      <td>0.326888</td>\n",
       "      <td>1517.959644</td>\n",
       "      <td>1475.108982</td>\n",
       "      <td>0.0</td>\n",
       "      <td>2.0</td>\n",
       "    </tr>\n",
       "    <tr>\n",
       "      <th>22</th>\n",
       "      <td>2020-10-01</td>\n",
       "      <td>2020</td>\n",
       "      <td>0</td>\n",
       "      <td>c</td>\n",
       "      <td>LAD</td>\n",
       "      <td>MIL</td>\n",
       "      <td>1596.678175</td>\n",
       "      <td>1502.693145</td>\n",
       "      <td>0.712092</td>\n",
       "      <td>0.287908</td>\n",
       "      <td>...</td>\n",
       "      <td>56.674581</td>\n",
       "      <td>57.809816</td>\n",
       "      <td>21.716845</td>\n",
       "      <td>33.175306</td>\n",
       "      <td>0.673916</td>\n",
       "      <td>0.326084</td>\n",
       "      <td>1606.065971</td>\n",
       "      <td>1506.703444</td>\n",
       "      <td>3.0</td>\n",
       "      <td>0.0</td>\n",
       "    </tr>\n",
       "  </tbody>\n",
       "</table>\n",
       "<p>5 rows × 26 columns</p>\n",
       "</div>"
      ],
      "text/plain": [
       "          date  season  neutral playoff team1 team2     elo1_pre     elo2_pre  \\\n",
       "18  2020-10-05    2020        1       d   TBD   NYY  1566.075394  1557.931446   \n",
       "19  2020-10-05    2020        1       d   OAK   HOU  1547.618027  1542.711978   \n",
       "20  2020-10-02    2020        0       c   SDP   STL  1522.312734  1520.100045   \n",
       "21  2020-10-02    2020        0       c   CHC   FLA  1517.011886  1478.403936   \n",
       "22  2020-10-01    2020        0       c   LAD   MIL  1596.678175  1502.693145   \n",
       "\n",
       "    elo_prob1  elo_prob2  ...  pitcher1_rgs  pitcher2_rgs  pitcher1_adj  \\\n",
       "18   0.515622   0.484378  ...     55.816028     64.669941      8.998064   \n",
       "19   0.509413   0.490587  ...     54.772986     53.236862     18.961942   \n",
       "20   0.550128   0.449872  ...     47.400000     57.310588    -17.746023   \n",
       "21   0.617874   0.382126  ...     60.622663     50.317526     40.641459   \n",
       "22   0.712092   0.287908  ...     56.674581     57.809816     21.716845   \n",
       "\n",
       "    pitcher2_adj rating_prob1 rating_prob2  rating1_post  rating2_post  \\\n",
       "18     45.532032     0.428900     0.571100   1558.967129   1565.871830   \n",
       "19     -1.632404     0.501194     0.498806   1529.635953   1556.298933   \n",
       "20     29.444071     0.461857     0.538143   1534.038131   1509.745224   \n",
       "21      5.064633     0.673112     0.326888   1517.959644   1475.108982   \n",
       "22     33.175306     0.673916     0.326084   1606.065971   1506.703444   \n",
       "\n",
       "    score1  score2  \n",
       "18     3.0     9.0  \n",
       "19     5.0    10.0  \n",
       "20     4.0     0.0  \n",
       "21     0.0     2.0  \n",
       "22     3.0     0.0  \n",
       "\n",
       "[5 rows x 26 columns]"
      ]
     },
     "execution_count": 95,
     "metadata": {},
     "output_type": "execute_result"
    }
   ],
   "source": [
    "mlb_data.head(5)"
   ]
  },
  {
   "cell_type": "markdown",
   "metadata": {},
   "source": [
    "### Drawing a corr-heat_map to determing which column to modify."
   ]
  },
  {
   "cell_type": "code",
   "execution_count": 96,
   "metadata": {},
   "outputs": [
    {
     "data": {
      "text/plain": [
       "<matplotlib.axes._subplots.AxesSubplot at 0x7fb3db844350>"
      ]
     },
     "execution_count": 96,
     "metadata": {},
     "output_type": "execute_result"
    },
    {
     "data": {
      "image/png": "[encoded data removed]",
      "text/plain": [
       "<Figure size 648x648 with 2 Axes>"
      ]
     },
     "metadata": {
      "needs_background": "light"
     },
     "output_type": "display_data"
    }
   ],
   "source": [
    "plt.subplots(figsize=(9, 9)) # 设置画面大小\n",
    "dfData = mlb_data.corr()\n",
    "sns.heatmap(dfData, annot=False, vmax=1, square=True, cmap=\"Blues\")"
   ]
  },
  {
   "cell_type": "markdown",
   "metadata": {},
   "source": [
    "#### According to the map, i have idea which based on heat of map to create two dataset, and sepratly predicting Home team and away team.\n",
    "#### one for score 1 which is Home team's score,i will remove 'date','playoff','season',\"neutral\",'rating2_post','elo2_post','rating_prob2'\n",
    "#### for score 2 which is Away team's score, i will remove 'date','playoff','season',\"neutral\",'rating1_post','elo1_post','rating_prob1'"
   ]
  },
  {
   "cell_type": "markdown",
   "metadata": {},
   "source": [
    "## Processing data\n",
    "#### Encoding team name and pitcher name to number. and create two talbe for home team, and away team (mlb_data1,mlb_data2)"
   ]
  },
  {
   "cell_type": "code",
   "execution_count": 97,
   "metadata": {},
   "outputs": [],
   "source": [
    "team1 = preprocessing.LabelEncoder()\n",
    "team2 = preprocessing.LabelEncoder()\n",
    "pitcher1 = preprocessing.LabelEncoder()\n",
    "pitcher2 = preprocessing.LabelEncoder()\n",
    "mlb_data['team1'] = team1.fit_transform(mlb_data['team1'])\n",
    "mlb_data['team2'] = team2.fit_transform(mlb_data['team2'])\n",
    "mlb_data['pitcher1'] = pitcher1.fit_transform(mlb_data['pitcher1'])\n",
    "mlb_data['pitcher2'] = pitcher2.fit_transform(mlb_data['pitcher2'])\n",
    "\n",
    "mlb_data1 = mlb_data.drop(columns=['date','playoff','season',\"neutral\",'rating2_post','elo2_post','rating_prob2','pitcher2'])\n",
    "mlb_data2 = mlb_data.drop(columns=['date','playoff','season',\"neutral\",'rating1_post','elo1_post','rating_prob1','pitcher1'])"
   ]
  },
  {
   "cell_type": "code",
   "execution_count": 106,
   "metadata": {},
   "outputs": [
    {
     "data": {
      "text/html": [
       "<div>\n",
       "<style scoped>\n",
       "    .dataframe tbody tr th:only-of-type {\n",
       "        vertical-align: middle;\n",
       "    }\n",
       "\n",
       "    .dataframe tbody tr th {\n",
       "        vertical-align: top;\n",
       "    }\n",
       "\n",
       "    .dataframe thead th {\n",
       "        text-align: right;\n",
       "    }\n",
       "</style>\n",
       "<table border=\"1\" class=\"dataframe\">\n",
       "  <thead>\n",
       "    <tr style=\"text-align: right;\">\n",
       "      <th></th>\n",
       "      <th>team1</th>\n",
       "      <th>team2</th>\n",
       "      <th>elo1_pre</th>\n",
       "      <th>elo2_pre</th>\n",
       "      <th>elo_prob1</th>\n",
       "      <th>elo_prob2</th>\n",
       "      <th>elo1_post</th>\n",
       "      <th>rating1_pre</th>\n",
       "      <th>rating2_pre</th>\n",
       "      <th>pitcher1</th>\n",
       "      <th>pitcher1_rgs</th>\n",
       "      <th>pitcher2_rgs</th>\n",
       "      <th>pitcher1_adj</th>\n",
       "      <th>pitcher2_adj</th>\n",
       "      <th>rating_prob1</th>\n",
       "      <th>rating1_post</th>\n",
       "      <th>score1</th>\n",
       "      <th>score2</th>\n",
       "    </tr>\n",
       "  </thead>\n",
       "  <tbody>\n",
       "    <tr>\n",
       "      <th>18</th>\n",
       "      <td>26</td>\n",
       "      <td>18</td>\n",
       "      <td>1566.075394</td>\n",
       "      <td>1557.931446</td>\n",
       "      <td>0.515622</td>\n",
       "      <td>0.484378</td>\n",
       "      <td>1560.900986</td>\n",
       "      <td>1562.032965</td>\n",
       "      <td>1562.805994</td>\n",
       "      <td>9</td>\n",
       "      <td>55.816028</td>\n",
       "      <td>64.669941</td>\n",
       "      <td>8.998064</td>\n",
       "      <td>45.532032</td>\n",
       "      <td>0.428900</td>\n",
       "      <td>1558.967129</td>\n",
       "      <td>3.0</td>\n",
       "      <td>9.0</td>\n",
       "    </tr>\n",
       "    <tr>\n",
       "      <th>19</th>\n",
       "      <td>19</td>\n",
       "      <td>12</td>\n",
       "      <td>1547.618027</td>\n",
       "      <td>1542.711978</td>\n",
       "      <td>0.509413</td>\n",
       "      <td>0.490587</td>\n",
       "      <td>1543.065786</td>\n",
       "      <td>1532.981409</td>\n",
       "      <td>1552.953477</td>\n",
       "      <td>23</td>\n",
       "      <td>54.772986</td>\n",
       "      <td>53.236862</td>\n",
       "      <td>18.961942</td>\n",
       "      <td>-1.632404</td>\n",
       "      <td>0.501194</td>\n",
       "      <td>1529.635953</td>\n",
       "      <td>5.0</td>\n",
       "      <td>10.0</td>\n",
       "    </tr>\n",
       "    <tr>\n",
       "      <th>20</th>\n",
       "      <td>22</td>\n",
       "      <td>25</td>\n",
       "      <td>1522.312734</td>\n",
       "      <td>1520.100045</td>\n",
       "      <td>0.550128</td>\n",
       "      <td>0.449872</td>\n",
       "      <td>1525.832831</td>\n",
       "      <td>1530.728125</td>\n",
       "      <td>1513.055229</td>\n",
       "      <td>33</td>\n",
       "      <td>47.400000</td>\n",
       "      <td>57.310588</td>\n",
       "      <td>-17.746023</td>\n",
       "      <td>29.444071</td>\n",
       "      <td>0.461857</td>\n",
       "      <td>1534.038131</td>\n",
       "      <td>4.0</td>\n",
       "      <td>0.0</td>\n",
       "    </tr>\n",
       "    <tr>\n",
       "      <th>21</th>\n",
       "      <td>5</td>\n",
       "      <td>11</td>\n",
       "      <td>1517.011886</td>\n",
       "      <td>1478.403936</td>\n",
       "      <td>0.617874</td>\n",
       "      <td>0.382126</td>\n",
       "      <td>1513.409248</td>\n",
       "      <td>1520.999030</td>\n",
       "      <td>1472.069596</td>\n",
       "      <td>156</td>\n",
       "      <td>60.622663</td>\n",
       "      <td>50.317526</td>\n",
       "      <td>40.641459</td>\n",
       "      <td>5.064633</td>\n",
       "      <td>0.673112</td>\n",
       "      <td>1517.959644</td>\n",
       "      <td>0.0</td>\n",
       "      <td>2.0</td>\n",
       "    </tr>\n",
       "    <tr>\n",
       "      <th>22</th>\n",
       "      <td>14</td>\n",
       "      <td>15</td>\n",
       "      <td>1596.678175</td>\n",
       "      <td>1502.693145</td>\n",
       "      <td>0.712092</td>\n",
       "      <td>0.287908</td>\n",
       "      <td>1598.290926</td>\n",
       "      <td>1604.605528</td>\n",
       "      <td>1508.163888</td>\n",
       "      <td>28</td>\n",
       "      <td>56.674581</td>\n",
       "      <td>57.809816</td>\n",
       "      <td>21.716845</td>\n",
       "      <td>33.175306</td>\n",
       "      <td>0.673916</td>\n",
       "      <td>1606.065971</td>\n",
       "      <td>3.0</td>\n",
       "      <td>0.0</td>\n",
       "    </tr>\n",
       "  </tbody>\n",
       "</table>\n",
       "</div>"
      ],
      "text/plain": [
       "    team1  team2     elo1_pre     elo2_pre  elo_prob1  elo_prob2    elo1_post  \\\n",
       "18     26     18  1566.075394  1557.931446   0.515622   0.484378  1560.900986   \n",
       "19     19     12  1547.618027  1542.711978   0.509413   0.490587  1543.065786   \n",
       "20     22     25  1522.312734  1520.100045   0.550128   0.449872  1525.832831   \n",
       "21      5     11  1517.011886  1478.403936   0.617874   0.382126  1513.409248   \n",
       "22     14     15  1596.678175  1502.693145   0.712092   0.287908  1598.290926   \n",
       "\n",
       "    rating1_pre  rating2_pre  pitcher1  pitcher1_rgs  pitcher2_rgs  \\\n",
       "18  1562.032965  1562.805994         9     55.816028     64.669941   \n",
       "19  1532.981409  1552.953477        23     54.772986     53.236862   \n",
       "20  1530.728125  1513.055229        33     47.400000     57.310588   \n",
       "21  1520.999030  1472.069596       156     60.622663     50.317526   \n",
       "22  1604.605528  1508.163888        28     56.674581     57.809816   \n",
       "\n",
       "    pitcher1_adj  pitcher2_adj  rating_prob1  rating1_post  score1  score2  \n",
       "18      8.998064     45.532032      0.428900   1558.967129     3.0     9.0  \n",
       "19     18.961942     -1.632404      0.501194   1529.635953     5.0    10.0  \n",
       "20    -17.746023     29.444071      0.461857   1534.038131     4.0     0.0  \n",
       "21     40.641459      5.064633      0.673112   1517.959644     0.0     2.0  \n",
       "22     21.716845     33.175306      0.673916   1606.065971     3.0     0.0  "
      ]
     },
     "execution_count": 106,
     "metadata": {},
     "output_type": "execute_result"
    }
   ],
   "source": [
    "mlb_data1.head(5)"
   ]
  },
  {
   "cell_type": "markdown",
   "metadata": {},
   "source": [
    "### RandomForest Regression model to determin the score by other column\n",
    "\n",
    "#### Home team predict"
   ]
  },
  {
   "cell_type": "code",
   "execution_count": 141,
   "metadata": {},
   "outputs": [],
   "source": [
    "X= mlb_data1.drop([\"score1\",\"score2\"], axis=1)\n",
    "y= mlb_data1[[\"score1\"]]\n",
    "X_train1, X_validation1, y_train1, y_validation1 = train_test_split(X, y, test_size=0.20, random_state=0)"
   ]
  },
  {
   "cell_type": "code",
   "execution_count": 142,
   "metadata": {},
   "outputs": [
    {
     "name": "stdout",
     "output_type": "stream",
     "text": [
      "\n",
      "RandomForest Regression accuracy for Home team: \n"
     ]
    },
    {
     "data": {
      "text/plain": [
       "66"
      ]
     },
     "execution_count": 142,
     "metadata": {},
     "output_type": "execute_result"
    }
   ],
   "source": [
    "print()\n",
    "print(\"RandomForest Regression accuracy for Home team: \")\n",
    "model = RandomForestRegressor(n_estimators=9, random_state=0)\n",
    "model.fit(X_train1, y_train1)\n",
    "y_pred = model.predict(X_validation1)\n",
    "accuracy_score(y_validation1, y_pred.round(), normalize=False)\n"
   ]
  },
  {
   "cell_type": "markdown",
   "metadata": {},
   "source": [
    "#### Away team predict"
   ]
  },
  {
   "cell_type": "code",
   "execution_count": 143,
   "metadata": {},
   "outputs": [],
   "source": [
    "X= mlb_data2.drop([\"score1\",\"score2\"], axis=1)\n",
    "y= mlb_data2[[\"score2\"]]\n",
    "X_train1, X_validation1, y_train1, y_validation1 = train_test_split(X, y, test_size=0.20, random_state=0)\n"
   ]
  },
  {
   "cell_type": "code",
   "execution_count": 144,
   "metadata": {},
   "outputs": [
    {
     "name": "stdout",
     "output_type": "stream",
     "text": [
      "\n",
      "RandomForest Regression accuracy for Away team: \n"
     ]
    },
    {
     "data": {
      "text/plain": [
       "51"
      ]
     },
     "execution_count": 144,
     "metadata": {},
     "output_type": "execute_result"
    }
   ],
   "source": [
    "print()\n",
    "print(\"RandomForest Regression accuracy for Away team: \")\n",
    "model = RandomForestRegressor(n_estimators=9, random_state=0)\n",
    "model.fit(X_train1, y_train1)\n",
    "y_pred = model.predict(X_validation1)\n",
    "accuracy_score(y_validation1, y_pred.round(), normalize=False)"
   ]
  },
  {
   "cell_type": "markdown",
   "metadata": {},
   "source": [
    "### Conclusion\n",
    "####    In terms of accuracy, RandomForest regression is acceptable. It can be seen from the results that the prediction accuracy_score of the home team （61%） and the away team（51%） is more accurate. I also tried linear and decision tree regression model. But the results were not satisfactory. I think the reason for the higher accuracy of the random forest regression model is that this model is better at dealing with high-dimensional data. And this model can judge the importance ，correlation of the data very well\n"
   ]
  },
  {
   "cell_type": "code",
   "execution_count": null,
   "metadata": {},
   "outputs": [],
   "source": []
  }
 ],
 "metadata": {
  "kernelspec": {
   "display_name": "Python 3",
   "language": "python",
   "name": "python3"
  },
  "language_info": {
   "codemirror_mode": {
    "name": "ipython",
    "version": 3
   },
   "file_extension": ".py",
   "mimetype": "text/x-python",
   "name": "python",
   "nbconvert_exporter": "python",
   "pygments_lexer": "ipython3",
   "version": "3.7.8"
  }
 },
 "nbformat": 4,
 "nbformat_minor": 4
}
